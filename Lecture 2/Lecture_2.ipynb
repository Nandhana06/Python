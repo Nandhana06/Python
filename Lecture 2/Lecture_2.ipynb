{
 "cells": [
  {
   "cell_type": "code",
   "execution_count": 3,
   "id": "184247af-f5d8-4f63-b149-f76b2b1c99db",
   "metadata": {},
   "outputs": [
    {
     "name": "stdout",
     "output_type": "stream",
     "text": [
      ":))\n"
     ]
    }
   ],
   "source": [
    "#strings\n",
    "b=':'\n",
    "c=')'\n",
    "s1=b+2*c\n",
    "print(s1)"
   ]
  },
  {
   "cell_type": "code",
   "execution_count": 6,
   "id": "5d44ad4c-7fcb-41f1-b219-946f98112065",
   "metadata": {},
   "outputs": [
    {
     "name": "stdout",
     "output_type": "stream",
     "text": [
      "a ba ba b\n"
     ]
    }
   ],
   "source": [
    "f='a'\n",
    "g=' b'\n",
    "h='3'\n",
    "s2=(f+g)*int(h)\n",
    "print(s2)"
   ]
  },
  {
   "cell_type": "code",
   "execution_count": 10,
   "id": "0950ac89-f15a-4592-a09a-4f869dc4c6a3",
   "metadata": {},
   "outputs": [
    {
     "name": "stdout",
     "output_type": "stream",
     "text": [
      " def gh\n",
      "d CB\n",
      "\n"
     ]
    }
   ],
   "source": [
    "s='ABC def ghi'\n",
    "print(s[3:len(s)-1])\n",
    "print(s[4:0:-1])\n",
    "print(s[6:3])#start index is greater than stop index and returns an empty string"
   ]
  },
  {
   "cell_type": "code",
   "execution_count": 15,
   "id": "0f61f654-9263-44e5-b9a9-929ace2ad193",
   "metadata": {},
   "outputs": [
    {
     "name": "stdout",
     "output_type": "stream",
     "text": [
      "the 3 Warriors\n",
      "the 3 Warriors\n"
     ]
    }
   ],
   "source": [
    "a='the'\n",
    "b=3\n",
    "c='Warriors'\n",
    "print(a,b,c)\n",
    "#print(a+b+c) Type error\n",
    "print(a +' '+ str(b)+' '+ c)"
   ]
  },
  {
   "cell_type": "code",
   "execution_count": 18,
   "id": "b24846a3-af1c-42b1-a7f7-d44b421c216f",
   "metadata": {},
   "outputs": [
    {
     "name": "stdin",
     "output_type": "stream",
     "text": [
      " 3\n"
     ]
    },
    {
     "name": "stdout",
     "output_type": "stream",
     "text": [
      "33333\n"
     ]
    },
    {
     "name": "stdin",
     "output_type": "stream",
     "text": [
      " 5\n"
     ]
    },
    {
     "name": "stdout",
     "output_type": "stream",
     "text": [
      "25\n"
     ]
    }
   ],
   "source": [
    "num1=input() #input() always returns a string\n",
    "print(5*num1)#repeats the string 5 times\n",
    "\n",
    "num2=int(input())\n",
    "print(5*num2)"
   ]
  },
  {
   "cell_type": "code",
   "execution_count": 20,
   "id": "cd34fd7a-0202-477a-ac6b-edf2f50080a4",
   "metadata": {},
   "outputs": [
    {
     "name": "stdin",
     "output_type": "stream",
     "text": [
      " run\n"
     ]
    },
    {
     "name": "stdout",
     "output_type": "stream",
     "text": [
      "I can run better than you\n",
      "run run run run run \n"
     ]
    }
   ],
   "source": [
    "verb=input()\n",
    "print(f'I can {verb} better than you')\n",
    "print(5*(verb+' '))"
   ]
  },
  {
   "cell_type": "code",
   "execution_count": 21,
   "id": "b2299ea4-7014-49b4-9712-0d4e46ab0c7d",
   "metadata": {},
   "outputs": [
    {
     "name": "stdin",
     "output_type": "stream",
     "text": [
      " run\n"
     ]
    },
    {
     "name": "stdout",
     "output_type": "stream",
     "text": [
      "I can run better than you\n",
      "run run run run run\n"
     ]
    }
   ],
   "source": [
    "verb=input()\n",
    "print(f'I can {verb} better than you')\n",
    "print(\" \".join([verb] * 5))#Avoids the trailing space\n"
   ]
  },
  {
   "cell_type": "code",
   "execution_count": 12,
   "id": "11bf4ac4-cfcd-40be-8d84-d5f6e00918b9",
   "metadata": {},
   "outputs": [
    {
     "name": "stdout",
     "output_type": "stream",
     "text": [
      "333.3333333333333 is 33.33333333333333 % of 1000\n",
      "333.3333333333333 is 33.33333333333333 % of 1000\n",
      "333.3333333333333 is 33.33333333333333% of 1000\n"
     ]
    }
   ],
   "source": [
    "#F-strings\n",
    "num=1000\n",
    "fraction=1/3\n",
    "print(num*fraction,'is',fraction*100,'% of', num)#Python treats fraction*100 and '%' as separate arguments\n",
    "print(num*fraction,'is',str(fraction*100),'% of', num)\n",
    "print(f'{num*fraction} is {fraction*100}% of {num}')# a single formatted string"
   ]
  },
  {
   "cell_type": "code",
   "execution_count": 23,
   "id": "fed46eea-8a86-41c2-b9dd-0142f29b49b0",
   "metadata": {},
   "outputs": [
    {
     "name": "stdin",
     "output_type": "stream",
     "text": [
      " 3\n"
     ]
    },
    {
     "name": "stdout",
     "output_type": "stream",
     "text": [
      "False\n"
     ]
    }
   ],
   "source": [
    "#Logical operators\n",
    "def secret(num):\n",
    "    secret_num=126\n",
    "    return secret_num==num\n",
    "num=int(input())\n",
    "print(secret(num))"
   ]
  },
  {
   "cell_type": "code",
   "execution_count": 26,
   "id": "c4215167-82ea-4726-b186-7670c457bc7c",
   "metadata": {},
   "outputs": [
    {
     "name": "stdin",
     "output_type": "stream",
     "text": [
      "Enter a number for x: 3\n",
      "Enter a different number for y: 4\n"
     ]
    },
    {
     "name": "stdout",
     "output_type": "stream",
     "text": [
      "These are not equal\n"
     ]
    }
   ],
   "source": [
    "x=int(input('Enter a number for x:'))\n",
    "y=int(input('Enter a different number for y:'))\n",
    "if x==y:\n",
    "      print(x,'is the same as',y)\n",
    "else:\n",
    "      print('These are not equal')\n"
   ]
  },
  {
   "cell_type": "code",
   "execution_count": 30,
   "id": "56a7a590-ca85-4d79-aa4e-0e44c2feb690",
   "metadata": {},
   "outputs": [
    {
     "name": "stdin",
     "output_type": "stream",
     "text": [
      " 126\n"
     ]
    },
    {
     "name": "stdout",
     "output_type": "stream",
     "text": [
      "Equal\n"
     ]
    }
   ],
   "source": [
    "secret_num=126\n",
    "num=int(input())\n",
    "if num<secret_num:\n",
    "    print('Too low')\n",
    "elif num==secret_num:\n",
    "    print('Equal')\n",
    "else:\n",
    "    print('Too high')"
   ]
  }
 ],
 "metadata": {
  "kernelspec": {
   "display_name": "Python 3 (ipykernel)",
   "language": "python",
   "name": "python3"
  },
  "language_info": {
   "codemirror_mode": {
    "name": "ipython",
    "version": 3
   },
   "file_extension": ".py",
   "mimetype": "text/x-python",
   "name": "python",
   "nbconvert_exporter": "python",
   "pygments_lexer": "ipython3",
   "version": "3.11.7"
  }
 },
 "nbformat": 4,
 "nbformat_minor": 5
}
