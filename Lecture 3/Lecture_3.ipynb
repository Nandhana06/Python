{
 "cells": [
  {
   "cell_type": "code",
   "execution_count": 1,
   "id": "db138b90-9433-47cc-abbc-67bd5cb7d4ea",
   "metadata": {},
   "outputs": [
    {
     "name": "stdin",
     "output_type": "stream",
     "text": [
      " 4\n"
     ]
    },
    {
     "name": "stdout",
     "output_type": "stream",
     "text": [
      "4\n",
      "3\n",
      "2\n",
      "1\n"
     ]
    }
   ],
   "source": [
    "#while loop\n",
    "#loops as long as a condition is true\n",
    "n=int(input())\n",
    "while n>0:\n",
    "    print(n)\n",
    "    n=n-1 #If we forget this line,the loop will go on forever"
   ]
  },
  {
   "cell_type": "code",
   "execution_count": 2,
   "id": "6d0bafdc-3405-4341-a99d-9b7d3ebfec8b",
   "metadata": {},
   "outputs": [
    {
     "name": "stdin",
     "output_type": "stream",
     "text": [
      "Go left or right? right\n",
      "Go left or right? right\n",
      "Go left or right? right\n"
     ]
    },
    {
     "name": "stdout",
     "output_type": "stream",
     "text": [
      ":(\n"
     ]
    },
    {
     "name": "stdin",
     "output_type": "stream",
     "text": [
      "Go left or right? left\n"
     ]
    },
    {
     "name": "stdout",
     "output_type": "stream",
     "text": [
      "You got out\n"
     ]
    }
   ],
   "source": [
    "n=0\n",
    "where=input('Go left or right?')\n",
    "while where == 'right':\n",
    "    n+=1\n",
    "    if n>2:\n",
    "        print(':(')\n",
    "    where = input('Go left or right?')\n",
    "print('You got out')"
   ]
  },
  {
   "cell_type": "code",
   "execution_count": 4,
   "id": "909218df-ecf5-4561-a48b-dc678fadb58b",
   "metadata": {},
   "outputs": [
    {
     "name": "stdout",
     "output_type": "stream",
     "text": [
      "24\n"
     ]
    }
   ],
   "source": [
    "#factorial calculation using while loop\n",
    "x=4\n",
    "i=1\n",
    "factorial=1\n",
    "while i<=x:\n",
    "    factorial*=i\n",
    "    i+=1\n",
    "print(factorial)"
   ]
  },
  {
   "cell_type": "code",
   "execution_count": 9,
   "id": "9931ddff-1401-42ee-a5a0-43c116fc7a30",
   "metadata": {},
   "outputs": [
    {
     "name": "stdout",
     "output_type": "stream",
     "text": [
      "1 2 3 \n",
      "2 6 \n",
      "**** *** ** * "
     ]
    }
   ],
   "source": [
    "#for loop\n",
    "for i in range(1,4,1):\n",
    "    print(i,end=' ')\n",
    "print()\n",
    "for j in range(1,4,2):\n",
    "    print(j*2,end=' ')\n",
    "print()\n",
    "for k in range(4,0,-1):\n",
    "    print('*'*k,end=' ')"
   ]
  },
  {
   "cell_type": "code",
   "execution_count": 11,
   "id": "e0a8b0af-a5c7-4c94-ab99-0bf26af6d4fa",
   "metadata": {},
   "outputs": [
    {
     "name": "stdout",
     "output_type": "stream",
     "text": [
      "12\n"
     ]
    }
   ],
   "source": [
    "#To get the total sum between and including the start and end values in the range \n",
    "mysum=0\n",
    "start=3\n",
    "end=5\n",
    "for i in range(start,end+1):\n",
    "    mysum+=i\n",
    "print(mysum)"
   ]
  },
  {
   "cell_type": "code",
   "execution_count": 13,
   "id": "7f0de7b5-36cf-4ed3-ac47-d7a28e357663",
   "metadata": {},
   "outputs": [
    {
     "name": "stdout",
     "output_type": "stream",
     "text": [
      "120\n"
     ]
    }
   ],
   "source": [
    "#factorial calculation using for loop\n",
    "#for loops only repeat for how long the sequence is\n",
    "x=5\n",
    "factorial=1\n",
    "for i in range(1,x+1,1):\n",
    "    factorial*=i\n",
    "print(factorial)"
   ]
  }
 ],
 "metadata": {
  "kernelspec": {
   "display_name": "Python 3 (ipykernel)",
   "language": "python",
   "name": "python3"
  },
  "language_info": {
   "codemirror_mode": {
    "name": "ipython",
    "version": 3
   },
   "file_extension": ".py",
   "mimetype": "text/x-python",
   "name": "python",
   "nbconvert_exporter": "python",
   "pygments_lexer": "ipython3",
   "version": "3.11.7"
  }
 },
 "nbformat": 4,
 "nbformat_minor": 5
}
