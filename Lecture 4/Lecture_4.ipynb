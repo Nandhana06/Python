{
 "cells": [
  {
   "cell_type": "code",
   "execution_count": 1,
   "id": "1e548f90-5da3-4221-b56c-900bf4fdc00e",
   "metadata": {},
   "outputs": [
    {
     "name": "stdout",
     "output_type": "stream",
     "text": [
      "5\n"
     ]
    }
   ],
   "source": [
    "mysum=0\n",
    "for i in range(5,11,2):\n",
    "    mysum+=i\n",
    "    if mysum==5:\n",
    "        break #comes out of the for loop\n",
    "        mysum+=1 #This never gets executed\n",
    "print(mysum)"
   ]
  },
  {
   "cell_type": "code",
   "execution_count": 6,
   "id": "1a352cdc-78b0-4bf2-9e70-abefd9e589f3",
   "metadata": {},
   "outputs": [
    {
     "name": "stdout",
     "output_type": "stream",
     "text": [
      "0\n"
     ]
    }
   ],
   "source": [
    "count=0\n",
    "for i in range(5,6):\n",
    "    if i%2==0:\n",
    "        count+=1\n",
    "print(count)"
   ]
  },
  {
   "cell_type": "code",
   "execution_count": 4,
   "id": "386ea8c7-01bd-43d0-a0f7-1ba4db87bca4",
   "metadata": {},
   "outputs": [
    {
     "name": "stdout",
     "output_type": "stream",
     "text": [
      "2\n"
     ]
    }
   ],
   "source": [
    "count=0\n",
    "for i in range(2,9,3):\n",
    "    if i%2==0:\n",
    "        count+=1\n",
    "print(count)"
   ]
  },
  {
   "cell_type": "code",
   "execution_count": 5,
   "id": "3a659828-85fb-4ec8-96f3-3d92a634a5e0",
   "metadata": {},
   "outputs": [
    {
     "name": "stdout",
     "output_type": "stream",
     "text": [
      "5\n"
     ]
    }
   ],
   "source": [
    "count=0\n",
    "for i in range(-4,6,2):\n",
    "    if i%2==0:\n",
    "        count+=1\n",
    "print(count)"
   ]
  },
  {
   "cell_type": "code",
   "execution_count": 1,
   "id": "b93f2c9e-2a11-4bf5-850c-9df4667d0b24",
   "metadata": {},
   "outputs": [
    {
     "name": "stdout",
     "output_type": "stream",
     "text": [
      "a or e is present\n",
      "a or e is present\n",
      "a or e is present\n"
     ]
    }
   ],
   "source": [
    "s='Happy Learning'\n",
    "for index in range(len(s)): #uses range to iterate through the index of s\n",
    "    if s[index]=='a' or s[index]=='e':\n",
    "        print('a or e is present')"
   ]
  },
  {
   "cell_type": "code",
   "execution_count": 2,
   "id": "53529378-c450-4c8b-b367-eff3af7e0701",
   "metadata": {},
   "outputs": [
    {
     "name": "stdout",
     "output_type": "stream",
     "text": [
      "There is an a or e\n",
      "There is an a or e\n",
      "There is an a or e\n"
     ]
    }
   ],
   "source": [
    "for char in s: #iterates through the characters of s directly\n",
    "    if char=='a' or char=='e':\n",
    "        print('There is an a or e')"
   ]
  },
  {
   "cell_type": "code",
   "execution_count": 3,
   "id": "6f772c8e-3939-43f4-8c68-d2191ed2ea0f",
   "metadata": {},
   "outputs": [
    {
     "name": "stdout",
     "output_type": "stream",
     "text": [
      "There is an a or e\n",
      "There is an a or e\n",
      "There is an a or e\n"
     ]
    }
   ],
   "source": [
    "for char in s: \n",
    "    if char in 'ae':\n",
    "        print('There is an a or e')"
   ]
  },
  {
   "cell_type": "code",
   "execution_count": 9,
   "id": "60d8a9c7-be7f-4303-8509-0f01371b827f",
   "metadata": {},
   "outputs": [
    {
     "name": "stdout",
     "output_type": "stream",
     "text": [
      "3\n"
     ]
    }
   ],
   "source": [
    "#finding unique letters in the given string\n",
    "seen=''\n",
    "s='abca'\n",
    "for i in s:\n",
    "    if i not in seen:\n",
    "        seen+=i\n",
    "    else:\n",
    "        pass #pass statement - placeholder;means do nothing\n",
    "print(len(seen))"
   ]
  },
  {
   "cell_type": "code",
   "execution_count": 4,
   "id": "116440fb-063b-44ef-8a08-57b4573fc006",
   "metadata": {},
   "outputs": [
    {
     "name": "stdin",
     "output_type": "stream",
     "text": [
      "Enter an integer: -3\n"
     ]
    },
    {
     "name": "stdout",
     "output_type": "stream",
     "text": [
      "-3 is not a perfect square\n",
      "Invalid\n"
     ]
    }
   ],
   "source": [
    "#square root check\n",
    "guess=0\n",
    "negative=False\n",
    "x=int(input('Enter an integer:'))\n",
    "if x<0:\n",
    "    negative=True\n",
    "while guess**2<x:\n",
    "    guess+=1\n",
    "if guess**2==x:\n",
    "    print(f'Square root of {x} is {guess}')\n",
    "else:\n",
    "    print(f'{x} is not a perfect square')\n",
    "    if negative:\n",
    "        print('Invalid')"
   ]
  },
  {
   "cell_type": "code",
   "execution_count": 11,
   "id": "8b03fd6f-259f-48b7-b3f6-0d9561c1d90b",
   "metadata": {},
   "outputs": [
    {
     "name": "stdout",
     "output_type": "stream",
     "text": [
      "Not found\n",
      "Not found\n",
      "Not found\n",
      "Not found\n",
      "found\n",
      "Not found\n",
      "Not found\n",
      "Not found\n",
      "Not found\n",
      "Not found\n"
     ]
    }
   ],
   "source": [
    "\n",
    "secret_num=5\n",
    "for i in range(1,11):\n",
    "    if i == secret_num:\n",
    "        print('found')\n",
    "    else:\n",
    "        print('Not found') #every time checking i either found or not found is printed"
   ]
  },
  {
   "cell_type": "code",
   "execution_count": 15,
   "id": "62cc805a-e969-45c1-8b9f-498aafc61c69",
   "metadata": {},
   "outputs": [
    {
     "name": "stdout",
     "output_type": "stream",
     "text": [
      "Not found\n"
     ]
    }
   ],
   "source": [
    "secret_num=15\n",
    "found=False\n",
    "for i in range(1,11):\n",
    "    if i == secret_num:\n",
    "        found=True #Boolean flag used to check if a condition is on or off\n",
    "        break\n",
    "if not found:\n",
    "   print('Not found')\n",
    "else:\n",
    "    print('found')"
   ]
  },
  {
   "cell_type": "code",
   "execution_count": 23,
   "id": "5ada14d2-dd25-420b-b56f-5838584c82fe",
   "metadata": {},
   "outputs": [
    {
     "name": "stdin",
     "output_type": "stream",
     "text": [
      "Enter a number: -27\n"
     ]
    },
    {
     "name": "stdout",
     "output_type": "stream",
     "text": [
      "Cube root of -27 is -3\n"
     ]
    }
   ],
   "source": [
    "cube=int(input('Enter a number:'))\n",
    "for guess in range(abs(cube)+1): #abs(cube) to handle both positive and negative numbers\n",
    "    if guess**3==abs(cube):\n",
    "        if cube<0:\n",
    "            guess=-guess\n",
    "        print(f'Cube root of {cube} is {guess}')\n",
    "        break\n",
    "else:#runs if no break occurs in the loop\n",
    "    print(f'{cube} is not a perfect cube')"
   ]
  },
  {
   "cell_type": "code",
   "execution_count": 2,
   "id": "bcb1e1b0-da8a-40dd-b3ea-d0563166e93f",
   "metadata": {},
   "outputs": [
    {
     "name": "stdout",
     "output_type": "stream",
     "text": [
      "Alyssa sold 3 tickets\n",
      "Ben sold 2 tickets\n",
      "Cindy sold 6 tickets\n"
     ]
    }
   ],
   "source": [
    "for alyssa in range(11):\n",
    "    for ben in range(11):\n",
    "        for cindy in range(11):\n",
    "            if alyssa + ben + cindy == 11 and ben == alyssa - 1 and cindy == 2 * alyssa:\n",
    "                print(f'Alyssa sold {alyssa} tickets')\n",
    "                print(f'Ben sold {ben} tickets')\n",
    "                print(f'Cindy sold {cindy} tickets')\n"
   ]
  },
  {
   "cell_type": "code",
   "execution_count": 3,
   "id": "0eee7bc7-f326-4078-9c96-44da98f81814",
   "metadata": {},
   "outputs": [
    {
     "name": "stdout",
     "output_type": "stream",
     "text": [
      "Alyssa sold 255 tickets\n",
      "Ben sold 235 tickets\n",
      "Cindy sold 510 tickets\n"
     ]
    }
   ],
   "source": [
    "#Efficient way\n",
    "for a in range(1001):\n",
    "    b= max(a-20,0)\n",
    "    c= 2*a\n",
    "    if a + b + c == 1000:\n",
    "        print(f'Alyssa sold {a} tickets')\n",
    "        print(f'Ben sold {b} tickets')\n",
    "        print(f'Cindy sold {c} tickets')\n",
    "        "
   ]
  },
  {
   "cell_type": "code",
   "execution_count": 4,
   "id": "9aaa3231-4d7f-400a-b718-0558f7d8460a",
   "metadata": {},
   "outputs": [
    {
     "name": "stdout",
     "output_type": "stream",
     "text": [
      "False\n",
      "0.9999999999999999\n"
     ]
    }
   ],
   "source": [
    "x=0\n",
    "for i in range(10):\n",
    "    x+=0.1\n",
    "print(x==1)\n",
    "print(x) # x becomes 0.9999999999999999 and its called as floating point error "
   ]
  },
  {
   "cell_type": "code",
   "execution_count": 6,
   "id": "9aa22f56-cf35-4c63-90cd-ec6e6b206257",
   "metadata": {},
   "outputs": [
    {
     "name": "stdout",
     "output_type": "stream",
     "text": [
      "10111100011\n"
     ]
    }
   ],
   "source": [
    "#Binary Conversion\n",
    "num=1507\n",
    "result=''\n",
    "if num==0:\n",
    "    result='0'\n",
    "while num>0:\n",
    "    result=str(num%2)+result\n",
    "    num=num//2\n",
    "print(result)#adding the new remainder to the front of the result because binary digits are generated from least significant bit to most significant bit (right to left), but we want to print them left to right.\n",
    "\n"
   ]
  },
  {
   "cell_type": "code",
   "execution_count": 10,
   "id": "b80f644e-4ff9-495f-ba4c-0a55a02b9ded",
   "metadata": {},
   "outputs": [
    {
     "name": "stdout",
     "output_type": "stream",
     "text": [
      "0b10111100011\n",
      "10111100011\n"
     ]
    }
   ],
   "source": [
    "#Built-in python function to convert decimal to binary\n",
    "binary= bin(1507)\n",
    "print(binary)\n",
    "binary= bin(1507)[2:] #To print without 0b prefix\n",
    "print(binary)"
   ]
  },
  {
   "cell_type": "code",
   "execution_count": 12,
   "id": "005c4ba7-bd54-4077-b74d-ae0256d4103b",
   "metadata": {},
   "outputs": [
    {
     "name": "stdout",
     "output_type": "stream",
     "text": [
      "10111100011\n"
     ]
    }
   ],
   "source": [
    "#Handling negative numbers\n",
    "num=1507\n",
    "if num<0:\n",
    "    is_neg=True\n",
    "    num=abs(num)\n",
    "else:\n",
    "    is_neg=False\n",
    "result=''\n",
    "if num==0:\n",
    "    result='0'\n",
    "while num>0:\n",
    "    result=str(num%2)+result\n",
    "    num=num//2\n",
    "print(result)"
   ]
  }
 ],
 "metadata": {
  "kernelspec": {
   "display_name": "Python 3 (ipykernel)",
   "language": "python",
   "name": "python3"
  },
  "language_info": {
   "codemirror_mode": {
    "name": "ipython",
    "version": 3
   },
   "file_extension": ".py",
   "mimetype": "text/x-python",
   "name": "python",
   "nbconvert_exporter": "python",
   "pygments_lexer": "ipython3",
   "version": "3.11.7"
  }
 },
 "nbformat": 4,
 "nbformat_minor": 5
}
