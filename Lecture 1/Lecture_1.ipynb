{
  "nbformat": 4,
  "nbformat_minor": 0,
  "metadata": {
    "colab": {
      "provenance": []
    },
    "kernelspec": {
      "name": "python3",
      "display_name": "Python 3"
    },
    "language_info": {
      "name": "python"
    }
  },
  "cells": [
    {
      "cell_type": "code",
      "execution_count": null,
      "metadata": {
        "colab": {
          "base_uri": "https://localhost:8080/"
        },
        "id": "bFz515Dy2Twq",
        "outputId": "7d9819ef-7503-4a18-e8b5-6359972db90a"
      },
      "outputs": [
        {
          "output_type": "stream",
          "name": "stdout",
          "text": [
            "<class 'int'>\n",
            "<class 'float'>\n",
            "<class 'float'>\n",
            "<class 'bool'>\n",
            "<class 'bool'>\n",
            "<class 'float'>\n",
            "<class 'int'>\n",
            "<class 'float'>\n",
            "<class 'int'>\n",
            "<class 'int'>\n"
          ]
        }
      ],
      "source": [
        "#finding out the type of an object\n",
        "print(type(1234))\n",
        "print(type(8.99))\n",
        "print(type(9.0))\n",
        "print(type(True))\n",
        "print(type(False))\n",
        "print(type(float(123)))\n",
        "print(type(round(7.9)))#implicit type casting\n",
        "print(type(float(round(123))))\n",
        "print(type(int(7.2)))\n",
        "print(type(int(7.9)))"
      ]
    },
    {
      "cell_type": "code",
      "source": [
        "#Finding out the values of expressions\n",
        "print((13-4)/(12*12))\n",
        "print(type(4*3))\n",
        "print(type(4.0*3))\n",
        "print(int(1/2))"
      ],
      "metadata": {
        "colab": {
          "base_uri": "https://localhost:8080/"
        },
        "id": "RqbFMXgb41ee",
        "outputId": "aefc3f8b-ae88-4767-b05d-58d5d6d10166"
      },
      "execution_count": null,
      "outputs": [
        {
          "output_type": "stream",
          "name": "stdout",
          "text": [
            "0.0625\n",
            "<class 'int'>\n",
            "<class 'float'>\n",
            "0\n"
          ]
        }
      ]
    },
    {
      "cell_type": "code",
      "source": [
        "\n",
        "x=6\n",
        "print(x)#variables"
      ],
      "metadata": {
        "colab": {
          "base_uri": "https://localhost:8080/"
        },
        "id": "5hnrEGOu49Tn",
        "outputId": "52be9711-ed5b-43cd-8c02-7fddadd72407"
      },
      "execution_count": null,
      "outputs": [
        {
          "output_type": "stream",
          "name": "stdout",
          "text": [
            "6\n"
          ]
        }
      ]
    },
    {
      "cell_type": "code",
      "source": [
        "6=x\n",
        "print(6)#syntax error"
      ],
      "metadata": {
        "colab": {
          "base_uri": "https://localhost:8080/",
          "height": 106
        },
        "id": "iXKDt4Qb5KKa",
        "outputId": "91ea1487-0492-4056-8d4d-ab04fff3f5a0"
      },
      "execution_count": null,
      "outputs": [
        {
          "output_type": "error",
          "ename": "SyntaxError",
          "evalue": "cannot assign to literal here. Maybe you meant '==' instead of '='? (<ipython-input-8-f2f85aad2e84>, line 1)",
          "traceback": [
            "\u001b[0;36m  File \u001b[0;32m\"<ipython-input-8-f2f85aad2e84>\"\u001b[0;36m, line \u001b[0;32m1\u001b[0m\n\u001b[0;31m    6=x\u001b[0m\n\u001b[0m    ^\u001b[0m\n\u001b[0;31mSyntaxError\u001b[0m\u001b[0;31m:\u001b[0m cannot assign to literal here. Maybe you meant '==' instead of '='?\n"
          ]
        }
      ]
    },
    {
      "cell_type": "code",
      "source": [
        "x*y=3+4\n",
        "print(x*y)#cannot assign a value to an expression"
      ],
      "metadata": {
        "colab": {
          "base_uri": "https://localhost:8080/",
          "height": 124
        },
        "id": "4rJpHosB5Qm6",
        "outputId": "7b44c532-c7ad-4cba-a476-68f76d68a9f9"
      },
      "execution_count": null,
      "outputs": [
        {
          "output_type": "error",
          "ename": "SyntaxError",
          "evalue": "cannot assign to expression here. Maybe you meant '==' instead of '='? (<ipython-input-9-fff84e551732>, line 1)",
          "traceback": [
            "\u001b[0;36m  File \u001b[0;32m\"<ipython-input-9-fff84e551732>\"\u001b[0;36m, line \u001b[0;32m1\u001b[0m\n\u001b[0;31m    x*y=3+4\u001b[0m\n\u001b[0m    ^\u001b[0m\n\u001b[0;31mSyntaxError\u001b[0m\u001b[0;31m:\u001b[0m cannot assign to expression here. Maybe you meant '==' instead of '='?\n"
          ]
        }
      ]
    },
    {
      "cell_type": "code",
      "source": [
        "xy=3+4\n",
        "print(xy)#xy is just a variable name\n"
      ],
      "metadata": {
        "colab": {
          "base_uri": "https://localhost:8080/"
        },
        "id": "jMuzGGD15Wl0",
        "outputId": "d27951cb-39cb-490a-b280-8d09eaeddb99"
      },
      "execution_count": null,
      "outputs": [
        {
          "output_type": "stream",
          "name": "stdout",
          "text": [
            "7\n"
          ]
        }
      ]
    },
    {
      "cell_type": "code",
      "source": [
        "#re-bind the values\n",
        "meters=100\n",
        "feet=3.2808 * meters\n",
        "meters=200\n",
        "print(meters)\n",
        "print(feet)"
      ],
      "metadata": {
        "colab": {
          "base_uri": "https://localhost:8080/"
        },
        "id": "zDGHAb-n5fZL",
        "outputId": "6520f5cb-c306-4cbd-a42a-95f0ace0a906"
      },
      "execution_count": null,
      "outputs": [
        {
          "output_type": "stream",
          "name": "stdout",
          "text": [
            "200\n",
            "328.08000000000004\n"
          ]
        }
      ]
    },
    {
      "cell_type": "code",
      "source": [
        "#swap the values\n",
        "x=1\n",
        "y=2\n",
        "temp=y\n",
        "y=x\n",
        "x=temp\n",
        "print(x)\n",
        "print(y)"
      ],
      "metadata": {
        "colab": {
          "base_uri": "https://localhost:8080/"
        },
        "id": "pOGBm_cq5qdU",
        "outputId": "24ac600b-91a7-4865-a34b-63469b84d61b"
      },
      "execution_count": null,
      "outputs": [
        {
          "output_type": "stream",
          "name": "stdout",
          "text": [
            "2\n",
            "1\n"
          ]
        }
      ]
    },
    {
      "cell_type": "code",
      "source": [
        "#swapping without using a third variable\n",
        "x=1\n",
        "y=2\n",
        "x,y=y,x\n",
        "print(x)\n",
        "print(y)"
      ],
      "metadata": {
        "colab": {
          "base_uri": "https://localhost:8080/"
        },
        "id": "l9kFiyiQ5uSL",
        "outputId": "78bc98c9-3ab6-4ad9-c643-d9b3afa58117"
      },
      "execution_count": 11,
      "outputs": [
        {
          "output_type": "stream",
          "name": "stdout",
          "text": [
            "2\n",
            "1\n"
          ]
        }
      ]
    },
    {
      "cell_type": "code",
      "source": [
        "#floating point division always results in a float\n",
        "x=4/2\n",
        "x"
      ],
      "metadata": {
        "colab": {
          "base_uri": "https://localhost:8080/"
        },
        "id": "sPW2ehCc54pk",
        "outputId": "c4a0fe03-f92a-4832-b99e-5f5b30f47477"
      },
      "execution_count": 7,
      "outputs": [
        {
          "output_type": "execute_result",
          "data": {
            "text/plain": [
              "2.0"
            ]
          },
          "metadata": {},
          "execution_count": 7
        }
      ]
    },
    {
      "cell_type": "code",
      "source": [
        "#interger/floor division\n",
        "x=4//2\n",
        "x"
      ],
      "metadata": {
        "id": "1Jk3HnYI6lQf",
        "colab": {
          "base_uri": "https://localhost:8080/"
        },
        "outputId": "2785980b-0ad5-4b00-a918-439ce777354b"
      },
      "execution_count": 8,
      "outputs": [
        {
          "output_type": "execute_result",
          "data": {
            "text/plain": [
              "2"
            ]
          },
          "metadata": {},
          "execution_count": 8
        }
      ]
    },
    {
      "cell_type": "code",
      "source": [
        "#floor division returns the floor value for both integer and floating-point arguments\n",
        "#If a number is negative then the output will be floored\n",
        "x=5//2\n",
        "y=-5//2\n",
        "z=5.0//2\n",
        "a=-5.0//2\n",
        "print(x)\n",
        "print(y)\n",
        "print(z)\n",
        "print(a)"
      ],
      "metadata": {
        "colab": {
          "base_uri": "https://localhost:8080/"
        },
        "id": "JNTJTjcz3KoJ",
        "outputId": "011bf7ef-bf5d-4ef0-bb63-d5f0afedb6e0"
      },
      "execution_count": 10,
      "outputs": [
        {
          "output_type": "stream",
          "name": "stdout",
          "text": [
            "2\n",
            "-3\n",
            "2.0\n",
            "-3.0\n"
          ]
        }
      ]
    }
  ]
}